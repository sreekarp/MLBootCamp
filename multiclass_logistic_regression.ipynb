{
  "nbformat": 4,
  "nbformat_minor": 0,
  "metadata": {
    "colab": {
      "name": "multiclass logistic regression.ipynb",
      "provenance": [],
      "collapsed_sections": []
    },
    "kernelspec": {
      "name": "python3",
      "display_name": "Python 3"
    },
    "language_info": {
      "name": "python"
    }
  },
  "cells": [
    {
      "cell_type": "code",
      "metadata": {
        "id": "TMLtJ3XgronG"
      },
      "source": [
        "import numpy as np\n",
        "import pandas as pd\n",
        "import matplotlib.pyplot as plt"
      ],
      "execution_count": 43,
      "outputs": []
    },
    {
      "cell_type": "code",
      "metadata": {
        "id": "b1spCQq_rpkU"
      },
      "source": [
        "class logistic_regression:\n",
        "\n",
        "      \n",
        "  def train(self,alpha = 0.03,max_iters = 2500):\n",
        "      # here we are initializing alpha and max_iters with some values \n",
        "      # cost_values and iterations are used to know the values of cost after every iteration \n",
        "  \n",
        "      self.max_iters = max_iters\n",
        "      self.alpha = alpha\n",
        "      self.cost_values = []\n",
        "      self.no_of_iterations = []\n",
        "  \n",
        "  # definition of sigmoid function.\n",
        "\n",
        "  def sigmoid(self,x):\n",
        "      return 1/(1+np.exp(-1*x))\n",
        "\n",
        "  # defining normalizing function.\n",
        "\n",
        "  def normalize(self,X):\n",
        "      m = X.shape[0]\n",
        "      for i in range(X.shape[1]):\n",
        "          X[:,i] = (X[:,i] - np.mean(X[:,i]))/(np.std(X[:,i]) + np.exp(-5))\n",
        "      X = np.hstack((np.ones((m, 1)), X))\n",
        "      return X    \n",
        "  \n",
        "\n",
        "  def fit(self,X,y,k):\n",
        "      \n",
        "      self.k = k\n",
        "      (m,n) = np.shape(X)\n",
        "      self.theta = np.zeros((self.k,n +1))\n",
        "      \n",
        "      # Normalization.\n",
        "\n",
        "      X= self.normalize(X)\n",
        "\n",
        "      # one vs all Classification.\n",
        "\n",
        "      y_k = np.zeros((m,self.k))\n",
        "      \n",
        "      # Converting y_k into one vs all type array.\n",
        "\n",
        "      for i in  range(m):\n",
        "          y_k[i,y[i]] = 1    # remember all are in arrays.\n",
        "\n",
        "      # applying gradient descent\n",
        "\n",
        "      for i in range(self.max_iters):\n",
        "          z = np.dot(X,(self.theta.T))\n",
        "          hypo = self.sigmoid(z)\n",
        "\n",
        "          # Parameter Update\n",
        "\n",
        "          self.theta = self.theta - (self.alpha/m)*(np.dot((hypo-y_k).T,X))\n",
        "\n",
        "          # Cost Function Calculation\n",
        "\n",
        "          cost = (-1*np.sum(y_k*np.log(hypo) + (1-y_k)*np.log(1-hypo))/(m))\n",
        "          self.cost_values.append(cost)\n",
        "          self.no_of_iterations.append(i)\n",
        "          if (i==0):\n",
        "            print(\"Initial Cost:\",cost)\n",
        "          if (i==self.max_iters-1):\n",
        "            print(\"Final Cost:\",cost)\n",
        "      return self\n",
        "        \n",
        "\n",
        "  def plot(self):\n",
        "      # Plots cost function vs no.of iterations\n",
        "      plt.xlabel(\"Iterations\")\n",
        "      plt.ylabel(\"Cost Value\")\n",
        "      plt.title(\"Gradient descent: Cost Value vs Iteration\")\n",
        "      plt.plot(self.no_of_iterations,self.cost_values)\n",
        "\n",
        "  # defining prediction function.\n",
        "\n",
        "  def predict(self,x):\n",
        "    x = self.normalize(x)    # normalizing the values in x\n",
        "    s = self.sigmoid(np.dot(x,self.theta.T))\n",
        "    y_pred = s.argmax(axis = 1) # using argmax to get the indices of the maximum element along rows(axis=1)\n",
        "\n",
        "    return y_pred\n",
        "  \n",
        "  # defining accuracy function.\n",
        "\n",
        "  def accuracy(self,y_test,y_pred):\n",
        "    m = len(y_test)  # m gives no of element we have tested or to be tested\n",
        "    sum =0           # let sum be no of correct prediction by the algorithm\n",
        "    for i in range(m):\n",
        "        if (y_test[i] == y_pred[i]):\n",
        "             sum += 1\n",
        "    return (sum/m)*100"
      ],
      "execution_count": 57,
      "outputs": []
    },
    {
      "cell_type": "code",
      "metadata": {
        "id": "yP7oTpRcr5gg"
      },
      "source": [
        "train_data = pd.read_csv('sample_data/mnist_train_small.csv')\n",
        "x_train = np.array(train_data.iloc[:,1:785])   # shape of x_train is (19999,784)\n",
        "y_train = np.array(train_data.iloc[:,0])       # shape of y_train is (19999,1)"
      ],
      "execution_count": 58,
      "outputs": []
    },
    {
      "cell_type": "code",
      "metadata": {
        "id": "sCXfYoInr7iO"
      },
      "source": [
        "a = logistic_regression() # here a is the object "
      ],
      "execution_count": 59,
      "outputs": []
    },
    {
      "cell_type": "code",
      "metadata": {
        "colab": {
          "base_uri": "https://localhost:8080/"
        },
        "id": "jxAhaT13z61W",
        "outputId": "b626cf3c-87bc-4f6e-d61f-6489aa5aaab8"
      },
      "source": [
        "a.train()\n",
        "a.fit(x_train,y_train,10)"
      ],
      "execution_count": 60,
      "outputs": [
        {
          "output_type": "stream",
          "text": [
            "Initial Cost: 6.931471805599452\n",
            "Final Cost: 0.7159195392555735\n"
          ],
          "name": "stdout"
        },
        {
          "output_type": "execute_result",
          "data": {
            "text/plain": [
              "<__main__.logistic_regression at 0x7fe1236ac550>"
            ]
          },
          "metadata": {
            "tags": []
          },
          "execution_count": 60
        }
      ]
    },
    {
      "cell_type": "code",
      "metadata": {
        "colab": {
          "base_uri": "https://localhost:8080/",
          "height": 295
        },
        "id": "dZcQrwKKGRA8",
        "outputId": "c60f0ecc-d861-4d42-a311-1117450912ba"
      },
      "source": [
        "a.plot()"
      ],
      "execution_count": 61,
      "outputs": [
        {
          "output_type": "display_data",
          "data": {
            "image/png": "[encoded data removed]",
            "text/plain": [
              "<Figure size 432x288 with 1 Axes>"
            ]
          },
          "metadata": {
            "tags": [],
            "needs_background": "light"
          }
        }
      ]
    },
    {
      "cell_type": "code",
      "metadata": {
        "colab": {
          "base_uri": "https://localhost:8080/"
        },
        "id": "t4vaupbzGpdO",
        "outputId": "ce47cd62-a238-48d7-e683-aa7ea58bf626"
      },
      "source": [
        "y_pred= a.predict(x_train)\n",
        "print(\"Test Accuracy:\",a.accuracy(y_train,y_pred))"
      ],
      "execution_count": 62,
      "outputs": [
        {
          "output_type": "stream",
          "text": [
            "Test Accuracy: 90.95454772738637\n"
          ],
          "name": "stdout"
        }
      ]
    },
    {
      "cell_type": "code",
      "metadata": {
        "id": "rXedQImpx-cd"
      },
      "source": [
        "test_data = pd.read_csv('sample_data/mnist_test.csv')\n",
        "x_test = np.array(test_data.iloc[:,1:785])\n",
        "y_test = np.array(test_data.iloc[:,0])"
      ],
      "execution_count": 63,
      "outputs": []
    },
    {
      "cell_type": "code",
      "metadata": {
        "id": "hPAQuZKYyuiA"
      },
      "source": [
        "b = logistic_regression()"
      ],
      "execution_count": 64,
      "outputs": []
    },
    {
      "cell_type": "code",
      "metadata": {
        "id": "iEzue_uryU2T",
        "colab": {
          "base_uri": "https://localhost:8080/"
        },
        "outputId": "496a9b7e-c492-4a1b-c6f0-818b97cf2742"
      },
      "source": [
        "b.train()\n",
        "b.fit(x_test,y_test,10)"
      ],
      "execution_count": 65,
      "outputs": [
        {
          "output_type": "stream",
          "text": [
            "Initial Cost: 6.931471805599453\n",
            "Final Cost: 0.6377706020014032\n"
          ],
          "name": "stdout"
        },
        {
          "output_type": "execute_result",
          "data": {
            "text/plain": [
              "<__main__.logistic_regression at 0x7fe123658550>"
            ]
          },
          "metadata": {
            "tags": []
          },
          "execution_count": 65
        }
      ]
    },
    {
      "cell_type": "code",
      "metadata": {
        "id": "GZt9I3q1ymQS",
        "colab": {
          "base_uri": "https://localhost:8080/",
          "height": 295
        },
        "outputId": "a250e31a-5e5a-4d05-8a58-ce08bb6ede8a"
      },
      "source": [
        "b.plot()"
      ],
      "execution_count": 66,
      "outputs": [
        {
          "output_type": "display_data",
          "data": {
            "image/png": "[encoded data removed]",
            "text/plain": [
              "<Figure size 432x288 with 1 Axes>"
            ]
          },
          "metadata": {
            "tags": [],
            "needs_background": "light"
          }
        }
      ]
    },
    {
      "cell_type": "code",
      "metadata": {
        "id": "iGtaEvOKy1BC",
        "colab": {
          "base_uri": "https://localhost:8080/"
        },
        "outputId": "d8e46828-6ae3-4d20-f878-d59ffe149b35"
      },
      "source": [
        "y_predict = b.predict(x_test)\n",
        "print(\"Test accuracy is\",b.accuracy(y_test,y_predict))"
      ],
      "execution_count": 67,
      "outputs": [
        {
          "output_type": "stream",
          "text": [
            "Test accuracy is 91.98919891989199\n"
          ],
          "name": "stdout"
        }
      ]
    }
  ]
}