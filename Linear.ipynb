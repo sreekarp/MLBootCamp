{
  "nbformat": 4,
  "nbformat_minor": 0,
  "metadata": {
    "colab": {
      "name": "Linear.ipynb",
      "provenance": []
    },
    "kernelspec": {
      "name": "python3",
      "display_name": "Python 3"
    },
    "language_info": {
      "name": "python"
    }
  },
  "cells": [
    {
      "cell_type": "code",
      "metadata": {
        "id": "3C81ABI16eE1"
      },
      "source": [
        "import numpy as np\n",
        "import pandas as pd\n",
        "import matplotlib.pyplot as plt"
      ],
      "execution_count": 111,
      "outputs": []
    },
    {
      "cell_type": "code",
      "metadata": {
        "id": "CbsGGGNR6nkk"
      },
      "source": [
        "class Linear_regression:\n",
        "  def train(self,alpha = 0.02,max_iters = 5000):\n",
        "    self.alpha = alpha\n",
        "    self.max_iters = max_iters\n",
        "    self.cost_values = []\n",
        "    self.iterations = []\n",
        "\n",
        "  def normalize(self,x):\n",
        "    (m,n) = np.shape(x)\n",
        "    for i in range(n):\n",
        "      x[:,i] = (x[:,i] - np.mean(x[:,i]))/(np.std(x[:,i]) + np.exp(-5))\n",
        "    x = np.hstack((np.ones((m,1)),x))\n",
        "    return x\n",
        "\n",
        "  def fit(self,x,y):\n",
        "    x = self.normalize(x)\n",
        "    (m,n) = np.shape(x)\n",
        "    theta = np.zeros(n)\n",
        "    self.theta = theta\n",
        "    \n",
        "\n",
        "    for i in range(self.max_iters):\n",
        "      self.theta = self.theta - ((self.alpha)/m)*np.dot(x.T,(np.dot(x,self.theta)-y))\n",
        "\n",
        "      cost = (1/(2*m))*(np.sum(np.power(np.dot(x,self.theta)-y,2)))\n",
        "\n",
        "      self.cost_values.append(cost)\n",
        "      self.iterations.append(i)\n",
        "\n",
        "      if i==0 :\n",
        "        print(\"Initial cost is \",cost)\n",
        "      if i == self.max_iters-1:\n",
        "        print(\"Final cost is \",cost)  \n",
        "\n",
        "    return self  \n",
        "  \n",
        "  def prediction(self,x):\n",
        "    x = self.normalize(x)\n",
        "    y_pred = np.dot(x,self.theta)\n",
        "    return y_pred\n",
        "  \n",
        "  def accuracy(self,y_pred,y):\n",
        "    self.y = y\n",
        "    m = len(self.y)\n",
        "    self.y_pred = y_pred\n",
        "    self.y_pred = np.round(self.y_pred)\n",
        "    for i in range(m):\n",
        "      sum = 0\n",
        "      if self.y_pred[i] ==self.y[i]:\n",
        "        sum+=1\n",
        "    return  (sum/m)*100\n",
        " \n",
        "  def plot(self):\n",
        "    plt.plot(self.iterations,self.cost_values)\n",
        "    plt.xlabel(\"Iterations\")\n",
        "    plt.ylabel(\"Cost Values\")\n",
        "    plt.title(\"Applying Gradient Descent: Cost Function vs Iterations\")\n"
      ],
      "execution_count": 112,
      "outputs": []
    },
    {
      "cell_type": "code",
      "metadata": {
        "id": "UqtxQNmBBicj"
      },
      "source": [
        "train_data = pd.read_csv('sample_data/mnist_train_small.csv')\n",
        "x_train = np.array(train_data.iloc[:,1:785])\n",
        "y_train = np.array(train_data.iloc[:,0])"
      ],
      "execution_count": 113,
      "outputs": []
    },
    {
      "cell_type": "code",
      "metadata": {
        "id": "B7-mABbYBS6M"
      },
      "source": [
        "a = Linear_regression()"
      ],
      "execution_count": 114,
      "outputs": []
    },
    {
      "cell_type": "code",
      "metadata": {
        "colab": {
          "base_uri": "https://localhost:8080/"
        },
        "id": "_PZIrGnDBZ1n",
        "outputId": "33cf2452-742c-4f33-9412-0ec2f77fb93a"
      },
      "source": [
        "a.train()\n",
        "a.fit(x_train,y_train)"
      ],
      "execution_count": 115,
      "outputs": [
        {
          "output_type": "stream",
          "text": [
            "Initial cost is  7.172644953324539\n",
            "Final cost is  1.590578529794343\n"
          ],
          "name": "stdout"
        },
        {
          "output_type": "execute_result",
          "data": {
            "text/plain": [
              "<__main__.Linear_regression at 0x7f7d626a8690>"
            ]
          },
          "metadata": {
            "tags": []
          },
          "execution_count": 115
        }
      ]
    },
    {
      "cell_type": "code",
      "metadata": {
        "colab": {
          "base_uri": "https://localhost:8080/"
        },
        "id": "5LWViQv-T0OS",
        "outputId": "10e30624-770c-44d3-e179-630ef4c6acc8"
      },
      "source": [
        "y_pred = a.prediction(x_train)\n",
        "print(\"Accuracy is\",a.accuracy(y_pred,y_train))\n"
      ],
      "execution_count": 116,
      "outputs": [
        {
          "output_type": "stream",
          "text": [
            "Accuracy is 0.0\n"
          ],
          "name": "stdout"
        }
      ]
    },
    {
      "cell_type": "code",
      "metadata": {
        "colab": {
          "base_uri": "https://localhost:8080/",
          "height": 295
        },
        "id": "EM10zcu_K2EW",
        "outputId": "d5990ea2-a672-490b-9b81-b252826de2c5"
      },
      "source": [
        "a.plot()"
      ],
      "execution_count": 117,
      "outputs": [
        {
          "output_type": "display_data",
          "data": {
            "image/png": "[encoded data removed]",
            "text/plain": [
              "<Figure size 432x288 with 1 Axes>"
            ]
          },
          "metadata": {
            "tags": [],
            "needs_background": "light"
          }
        }
      ]
    },
    {
      "cell_type": "code",
      "metadata": {
        "id": "lUxCn2L_RJra"
      },
      "source": [
        "test_data = pd.read_csv('sample_data/mnist_test.csv')\n",
        "x_test = np.array(test_data.iloc[:,1:785])\n",
        "y_test = np.array(test_data.iloc[:,0])"
      ],
      "execution_count": 118,
      "outputs": []
    },
    {
      "cell_type": "code",
      "metadata": {
        "id": "m9pY8gRqLNaE"
      },
      "source": [
        "y_pred = a.prediction(x_test) # this the output of target from the theta obtained during training"
      ],
      "execution_count": 121,
      "outputs": []
    }
  ]
}