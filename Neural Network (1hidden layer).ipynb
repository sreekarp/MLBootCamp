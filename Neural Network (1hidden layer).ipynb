{
  "nbformat": 4,
  "nbformat_minor": 0,
  "metadata": {
    "colab": {
      "name": "Untitled11.ipynb",
      "provenance": [],
      "collapsed_sections": []
    },
    "kernelspec": {
      "name": "python3",
      "display_name": "Python 3"
    },
    "language_info": {
      "name": "python"
    }
  },
  "cells": [
    {
      "cell_type": "code",
      "metadata": {
        "id": "igVmWNOVeKPB"
      },
      "source": [
        "import numpy as np\n",
        "import pandas as pd\n",
        "import matplotlib.pyplot as plt"
      ],
      "execution_count": 94,
      "outputs": []
    },
    {
      "cell_type": "code",
      "metadata": {
        "id": "7pN8W0QseLY4"
      },
      "source": [
        "class Neural_network:\n",
        "\n",
        "    def train(self,alpha=0.01,max_iters=1000,s1=50):\n",
        "        # train initializes max_iters and size of the hidden layer\n",
        "        self.max_iters = max_iters\n",
        "        self.s1 = s1\n",
        "        self.alpha = alpha\n",
        "        # cost_values and iterations to kepp track of cost function during gradient descent\n",
        "        self.cost_values = []\n",
        "        self.iterations = []\n",
        "\n",
        "    def sigmoid(self, x):\n",
        "        # sigmoid takes z as argument and returns sigmoid value of x.\n",
        "        return 1/(1 + np.exp(-1*x))\n",
        "\n",
        "    def normalize(self, x):\n",
        "        # normalizes x to prevent overflow.\n",
        "        (m,n) = np.shape(x)\n",
        "        for i in range(n):\n",
        "            x[:, i] = (x[:, i] - np.mean(x[:, i])) / (np.std(x[:, i]) + np.exp(-5))\n",
        "        return x\n",
        "\n",
        "    def fit(self, x, y, k):\n",
        "        # takes feature's array and target array to feed neural network.\n",
        "        self.x = self.normalize(x)  # Normalizing.\n",
        "        ones = np.full((x.shape[0],1),1)\n",
        "        np.hstack((ones,x))  \n",
        "        (m,n) = np.shape(self.x)\n",
        "        # Converting y matrix for One vs all classification\n",
        "        self.k = k\n",
        "        y_k= np.zeros((m, self.k))\n",
        "        for i in range(m):\n",
        "            y_k[i][y[i]] = 1\n",
        "\n",
        "        # Initializing weights theta.\n",
        "        self.theta1 = np.random.randn(self.s1,n) *0.01          \n",
        "        self.theta2 = np.random.randn(k,self.s1) *0.01\n",
        "\n",
        "        for i in range(self.max_iters):\n",
        "            # Forward Propagation\n",
        "            a1 = self.x\n",
        "            z2 = np.dot(a1,self.theta1.T)\n",
        "            z2 = self.normalize(z2)\n",
        "            a2 = self.sigmoid(z2)\n",
        "            z3 = np.dot(a2,self.theta2.T)\n",
        "            z3 = self.normalize(z3)\n",
        "            a3 = self.sigmoid(z3)\n",
        "\n",
        "            # Cost Function\n",
        "            cost = (-1 / m) * np.sum(y_k * np.log(a3+np.exp(-6)) + (1 - y_k) * np.log(1 - a3 + np.exp(-6)))\n",
        "            self.cost_values.append(cost)\n",
        "            self.iterations.append(i)\n",
        "              \n",
        "            # Back Propagation\n",
        "            error3 = self.normalize(a3 - y_k)\n",
        "            error2 = self.normalize(np.dot(error3,self.theta2) * a2 * (1 - a2))\n",
        "            del2 = np.dot(error3.T,a2)\n",
        "            del1 = np.dot(error2.T,a1)\n",
        "            D2 = (1/m)*(del2)\n",
        "            D2 = self.normalize(D2)\n",
        "            D1 = (1/m)*(del1)\n",
        "            D1 = self.normalize(D1)\n",
        "            # Parameter update.\n",
        "            self.theta1 -= self.alpha*(D1)\n",
        "            self.theta2 -= self.alpha*(D2)\n",
        "            if i==0:\n",
        "              print(\"Initial cost is \",cost)\n",
        "            if i == self.max_iters-1:\n",
        "              print(\"Final cost is \",cost)\n",
        "\n",
        "    def plot(self):\n",
        "        # plot's grapf between cost_values and iterations.\n",
        "        plt.plot(self.iterations, self.cost_values)\n",
        "        plt.xlabel(\"Iterations\")\n",
        "        plt.ylabel(\"Cost Value\")\n",
        "        plt.title(\"Cost Value vs Iteration\")\n",
        "\n",
        "    def predict(self, x):\n",
        "        # predicts the output with the help of trained model\n",
        "        x = self.normalize(x)\n",
        "        a1 = self.normalize(x)\n",
        "        z2 = np.dot(a1,self.theta1.T)\n",
        "        a2 = self.sigmoid(z2)\n",
        "        a2 = self.normalize(a2)\n",
        "        z3 = np.dot(a2,self.theta2.T)\n",
        "        a3 = self.sigmoid(z3)\n",
        "        y_pred = np.argmax(a3, axis=1).reshape(len(a3), 1)\n",
        "        return y_pred\n",
        "\n",
        "    def accuracy(self,x, y,y_pred):\n",
        "        sum = 0\n",
        "        m=x.shape[0]\n",
        "        for i in range(x.shape[1]):\n",
        "          if y[i]==y_pred[i]:\n",
        "            sum+=1\n",
        "        return (sum/m)*100"
      ],
      "execution_count": 112,
      "outputs": []
    },
    {
      "cell_type": "code",
      "metadata": {
        "id": "p52ry2AleLw5"
      },
      "source": [
        "n = Neural_network()"
      ],
      "execution_count": 113,
      "outputs": []
    },
    {
      "cell_type": "code",
      "metadata": {
        "colab": {
          "base_uri": "https://localhost:8080/"
        },
        "id": "fblAWJdFeL4A",
        "outputId": "f474a393-6bb6-4a2e-9758-fe09b9575fbd"
      },
      "source": [
        "n.train()\n",
        "n.fit(x_train,y_train,10)"
      ],
      "execution_count": 114,
      "outputs": [
        {
          "output_type": "stream",
          "text": [
            "Initial cost is  7.346989871713978\n",
            "Final cost is  5.791286532063099\n"
          ],
          "name": "stdout"
        }
      ]
    },
    {
      "cell_type": "code",
      "metadata": {
        "id": "ktk_g1e_eMDR",
        "colab": {
          "base_uri": "https://localhost:8080/",
          "height": 295
        },
        "outputId": "94d60fe9-fdaa-459a-cc39-3fc12aa2359f"
      },
      "source": [
        "n.plot()"
      ],
      "execution_count": 115,
      "outputs": [
        {
          "output_type": "display_data",
          "data": {
            "image/png": "[encoded data removed]",
            "text/plain": [
              "<Figure size 432x288 with 1 Axes>"
            ]
          },
          "metadata": {
            "tags": [],
            "needs_background": "light"
          }
        }
      ]
    },
    {
      "cell_type": "code",
      "metadata": {
        "id": "l5V3z02reMPi",
        "colab": {
          "base_uri": "https://localhost:8080/"
        },
        "outputId": "22c7bf45-b961-480d-e52c-89a3cb512f68"
      },
      "source": [
        "y_pred = n.predict(x_train)\n",
        "print(\"The accuracy is \",n.accuracy(x_train,y_train,y_pred))"
      ],
      "execution_count": 116,
      "outputs": [
        {
          "output_type": "stream",
          "text": [
            "The accuracy is  2.0251012550627534\n"
          ],
          "name": "stdout"
        },
        {
          "output_type": "stream",
          "text": [
            "/usr/local/lib/python3.7/dist-packages/ipykernel_launcher.py:14: RuntimeWarning: overflow encountered in exp\n",
            "  \n"
          ],
          "name": "stderr"
        }
      ]
    },
    {
      "cell_type": "code",
      "metadata": {
        "id": "diL4ic22eMtc"
      },
      "source": [
        ""
      ],
      "execution_count": null,
      "outputs": []
    }
  ]
}